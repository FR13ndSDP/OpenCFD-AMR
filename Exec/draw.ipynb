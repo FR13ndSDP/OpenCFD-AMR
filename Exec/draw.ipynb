{
 "cells": [
  {
   "cell_type": "code",
   "execution_count": null,
   "metadata": {},
   "outputs": [],
   "source": [
    "import yt"
   ]
  },
  {
   "cell_type": "code",
   "execution_count": null,
   "metadata": {},
   "outputs": [],
   "source": [
    "ds = yt.load(\"./0_Sod/plt00131\")\n",
    "var = (\"boxlib\", \"rho\")\n",
    "varx = (\"boxlib\", \"ux\")\n",
    "vary = (\"boxlib\", \"uy\")\n",
    "slc = yt.SlicePlot(ds, \"z\", var)\n",
    "slc.set_cmap(field=var, cmap=\"jet\")\n",
    "slc.annotate_quiver(varx, vary, factor=16)\n",
    "# slc.set_window_size(16.0)\n",
    "slc.show()\n",
    "plot = yt.LinePlot(\n",
    "    ds, [(\"boxlib\", \"p\"), (\"boxlib\", \"ux\"), (\"boxlib\", \"rho\")], (0.0, 0.007, 0.007), (1.0, 0.007, 0.007), 200\n",
    ")\n",
    "plot.set_log((\"boxlib\", \"ux\"), 0)\n",
    "plot.set_log((\"boxlib\", \"p\"), 0)\n",
    "plot.set_log((\"boxlib\", \"rho\"), 0)\n",
    "plot.show()\n",
    "\n",
    "plot2 = yt.LinePlot(\n",
    "    ds, [(\"boxlib\", \"T\")], (0.0, 0.007, 0.007), (1.0, 0.007, 0.007), 200\n",
    ")\n",
    "plot2.show()"
   ]
  },
  {
   "cell_type": "code",
   "execution_count": null,
   "metadata": {},
   "outputs": [],
   "source": [
    "ds = yt.load(\"./1_DMR/plt00100\")\n",
    "var = (\"boxlib\", \"T\")\n",
    "varx = (\"boxlib\", \"ux\")\n",
    "vary = (\"boxlib\", \"uy\")\n",
    "slc = yt.SlicePlot(ds, \"z\", var)\n",
    "slc.set_cmap(field=var, cmap=\"jet\")\n",
    "# slc.annotate_quiver(varx, vary, factor=16)\n",
    "# slc.set_window_size(16.0)\n",
    "slc.show()"
   ]
  }
 ],
 "metadata": {
  "interpreter": {
   "hash": "916dbcbb3f70747c44a77c7bcd40155683ae19c65e1c03b4aa3499c5328201f1"
  },
  "kernelspec": {
   "display_name": "Python 3.8.10 64-bit",
   "language": "python",
   "name": "python3"
  },
  "language_info": {
   "codemirror_mode": {
    "name": "ipython",
    "version": 3
   },
   "file_extension": ".py",
   "mimetype": "text/x-python",
   "name": "python",
   "nbconvert_exporter": "python",
   "pygments_lexer": "ipython3",
   "version": "3.8.10"
  },
  "orig_nbformat": 4
 },
 "nbformat": 4,
 "nbformat_minor": 2
}
